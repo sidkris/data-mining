{
 "cells": [
  {
   "cell_type": "code",
   "execution_count": 14,
   "metadata": {},
   "outputs": [],
   "source": [
    "import pandas as pd"
   ]
  },
  {
   "cell_type": "code",
   "execution_count": 15,
   "metadata": {},
   "outputs": [],
   "source": [
    "lynx_df = pd.read_csv(r\"datasets\\LYNXdata.csv\", header = 0, names = [\"year\", \"trappings\"], index_col = 0) "
   ]
  },
  {
   "cell_type": "code",
   "execution_count": 16,
   "metadata": {},
   "outputs": [],
   "source": [
    "nottem_df = pd.read_csv(r\"datasets\\nottem.csv\", header = 0, names = [\"index\", \"temp\"], index_col = 0)"
   ]
  },
  {
   "cell_type": "code",
   "execution_count": 17,
   "metadata": {},
   "outputs": [
    {
     "name": "stdout",
     "output_type": "stream",
     "text": [
      "      trappings\n",
      "year           \n",
      "1821        269\n",
      "1822        321\n",
      "1823        585\n",
      "1824        871\n",
      "1825       1475\n",
      "\n",
      "\n",
      "----------------------------\n",
      "\n",
      "\n",
      "       temp\n",
      "index      \n",
      "1      40.6\n",
      "2      40.8\n",
      "3      44.4\n",
      "4      46.7\n",
      "5      54.1\n"
     ]
    }
   ],
   "source": [
    "print(lynx_df.head())\n",
    "\n",
    "print(\"\\n\\n----------------------------\\n\\n\")\n",
    "\n",
    "print(nottem_df.head())"
   ]
  },
  {
   "cell_type": "code",
   "execution_count": 24,
   "metadata": {},
   "outputs": [],
   "source": [
    "# DF to Series\n",
    "\n",
    "lynx_ts = pd.Series(lynx_df[\"trappings\"].values, index = pd.date_range(\"31/12/1821\", periods = len(lynx_df), freq = \"M\"))\n",
    "nottem_ts = pd.Series(nottem_df[\"temp\"].values, index = pd.date_range(\"1920-01-31\", periods = len(nottem_df), freq = \"M\"))"
   ]
  },
  {
   "cell_type": "code",
   "execution_count": 28,
   "metadata": {},
   "outputs": [
    {
     "name": "stdout",
     "output_type": "stream",
     "text": [
      "1821-12-31     269\n",
      "1822-01-31     321\n",
      "1822-02-28     585\n",
      "1822-03-31     871\n",
      "1822-04-30    1475\n",
      "Freq: M, dtype: int64\n",
      "\n",
      "\n",
      "------\n",
      "\n",
      "\n",
      "1920-01-31    40.6\n",
      "1920-02-29    40.8\n",
      "1920-03-31    44.4\n",
      "1920-04-30    46.7\n",
      "1920-05-31    54.1\n",
      "Freq: M, dtype: float64\n"
     ]
    }
   ],
   "source": [
    "print(lynx_ts.head())\n",
    "\n",
    "print(\"\\n\\n------\\n\\n\")\n",
    "\n",
    "print(nottem_ts.head())"
   ]
  },
  {
   "cell_type": "code",
   "execution_count": null,
   "metadata": {},
   "outputs": [],
   "source": []
  }
 ],
 "metadata": {
  "kernelspec": {
   "display_name": "Python 3",
   "language": "python",
   "name": "python3"
  },
  "language_info": {
   "codemirror_mode": {
    "name": "ipython",
    "version": 3
   },
   "file_extension": ".py",
   "mimetype": "text/x-python",
   "name": "python",
   "nbconvert_exporter": "python",
   "pygments_lexer": "ipython3",
   "version": "3.11.6"
  }
 },
 "nbformat": 4,
 "nbformat_minor": 2
}
